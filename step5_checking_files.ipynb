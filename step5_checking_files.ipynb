{
 "cells": [
  {
   "cell_type": "markdown",
   "metadata": {},
   "source": [
    "# Description"
   ]
  },
  {
   "cell_type": "markdown",
   "metadata": {},
   "source": [
    "This notebook will make sure all the conditions are met to rebin the files\n",
    "\n",
    " * check that the **binning_list_of_files** file has been created\n",
    " * check that the folder structure of the image corrected is correct\n",
    "  * right structure\n",
    "  * number of file in each folder is identical\n",
    " * check that all the files reported in the binning_list_of_files exist\n",
    "  * if they do not, user will have the option to fix the issue himself, or to automatically fix the binning_list_of_files file\n",
    "  \n",
    "Please select **Cell > Run All** to run this notebook"
   ]
  },
  {
   "cell_type": "markdown",
   "metadata": {},
   "source": [
    "# Import"
   ]
  },
  {
   "cell_type": "code",
   "execution_count": 7,
   "metadata": {
    "collapsed": false
   },
   "outputs": [],
   "source": [
    "import os\n",
    "import pandas as pd\n",
    "from IPython.core.display import display, HTML\n",
    "from ipywidgets import widgets\n",
    "\n",
    "import config_handler\n",
    "import utilities"
   ]
  },
  {
   "cell_type": "markdown",
   "metadata": {},
   "source": [
    "# Checking  "
   ]
  },
  {
   "cell_type": "markdown",
   "metadata": {},
   "source": [
    "Global dictionary that will keep record of the various checks"
   ]
  },
  {
   "cell_type": "code",
   "execution_count": 2,
   "metadata": {
    "collapsed": false
   },
   "outputs": [],
   "source": [
    "global_status = {}\n",
    "global_status['binning_list_of_files'] = False\n",
    "global_status['all_images_folder_found'] = False\n",
    "global_status['all_folder_have_same_number_of_files'] = False"
   ]
  },
  {
   "cell_type": "markdown",
   "metadata": {},
   "source": [
    "## binning_list_of_files exists ?"
   ]
  },
  {
   "cell_type": "code",
   "execution_count": 3,
   "metadata": {
    "collapsed": true
   },
   "outputs": [],
   "source": [
    "root_folder = config_handler.load_config(key = 'output_folder')\n",
    "binning_list_of_files = os.path.join(root_folder, 'binning_list_of_files.csv')\n",
    "if os.path.exists(binning_list_of_files):\n",
    "    global_status['binning_list_of_files'] = True"
   ]
  },
  {
   "cell_type": "markdown",
   "metadata": {},
   "source": [
    "## folder structure is correct ?"
   ]
  },
  {
   "cell_type": "markdown",
   "metadata": {},
   "source": [
    "### each corrected image requested by rebin has its own folder ?"
   ]
  },
  {
   "cell_type": "code",
   "execution_count": 4,
   "metadata": {
    "collapsed": false
   },
   "outputs": [],
   "source": [
    "if global_status['binning_list_of_files']:\n",
    "    input_raw_folder = config_handler.load_config(key = 'input_corrected_folder')\n",
    "    \n",
    "    df = pd.read_csv(binning_list_of_files, index_col=0, header=None)\n",
    "    \n",
    "    list_images = []\n",
    "    for _files in df.loc['list_of_files',:]:\n",
    "        list_images.append(_files.split(','))\n",
    "        \n",
    "    folder_not_found = []\n",
    "    for _images_in_bin in list_images:\n",
    "        for _image in _images_in_bin:\n",
    "            _image_number = utilities.keep_folder_name(_image)\n",
    "            _full_image_path = os.path.join(input_raw_folder, _image_number)\n",
    "            if not os.path.exists(_full_image_path):\n",
    "                folder_not_found.append(_image_number)\n",
    "    \n",
    "    if folder_not_found == []:\n",
    "        global_status['all_images_folder_found': True]  "
   ]
  },
  {
   "cell_type": "markdown",
   "metadata": {},
   "source": [
    "### all folder have the same number of files ?"
   ]
  },
  {
   "cell_type": "code",
   "execution_count": 5,
   "metadata": {
    "collapsed": false,
    "format": "row",
    "scrolled": true
   },
   "outputs": [],
   "source": [
    "if global_status['binning_list_of_files']:\n",
    "    \n",
    "    number_of_files = []\n",
    "    for _images_in_bin in list_images:\n",
    "        for _image in _images_in_bin:\n",
    "            _image_number = utilities.keep_folder_name(_image)\n",
    "            _full_image_path = os.path.join(input_raw_folder, _image_number)\n",
    "            if os.path.exists(_full_image_path):\n",
    "                _nbr_files = len([name for name in os.listdir(_full_image_path) \\\n",
    "                                  if (os.path.isfile(os.path.join(_full_image_path, name)) and \\\n",
    "                                                     (utilities.is_extension(name, '.fits')))])\n",
    "                number_of_files.append(_nbr_files)\n",
    "    number_of_files = set(number_of_files)\n",
    "    if len(number_of_files) == 1:\n",
    "        global_status['all_folder_have_same_number_of_files'] = True"
   ]
  },
  {
   "cell_type": "markdown",
   "metadata": {
    "collapsed": true
   },
   "source": [
    "# Results"
   ]
  },
  {
   "cell_type": "code",
   "execution_count": 10,
   "metadata": {
    "collapsed": false
   },
   "outputs": [
    {
     "data": {
      "text/html": [
       "<span style=\"font-size: 20px\">- binning_list_of_files found? ........  <span style=\"color:green\">OK!</span></span>"
      ],
      "text/plain": [
       "<IPython.core.display.HTML object>"
      ]
     },
     "metadata": {},
     "output_type": "display_data"
    },
    {
     "data": {
      "text/html": [
       "<span style=\"font-size: 20px\">- all images requested have their corrected folder? ........<span style=\"color:red\">FAILED!</span></span>"
      ],
      "text/plain": [
       "<IPython.core.display.HTML object>"
      ]
     },
     "metadata": {},
     "output_type": "display_data"
    },
    {
     "data": {
      "text/html": [
       "<pre><span style=\"font-size: 18px\">    List of Folder(s) Missing:</span></pre>"
      ],
      "text/plain": [
       "<IPython.core.display.HTML object>"
      ]
     },
     "metadata": {},
     "output_type": "display_data"
    },
    {
     "data": {
      "text/html": [
       "<pre><span style=\"fonts-size: 18px\">         Image008</span></pre>"
      ],
      "text/plain": [
       "<IPython.core.display.HTML object>"
      ]
     },
     "metadata": {},
     "output_type": "display_data"
    },
    {
     "data": {
      "text/html": [
       "<pre><span style=\"font-size: 18px\">    <span style=\"font-weight: bold;\">How to Fix Issue:</span>"
      ],
      "text/plain": [
       "<IPython.core.display.HTML object>"
      ]
     },
     "metadata": {},
     "output_type": "display_data"
    },
    {
     "name": "stdout",
     "output_type": "stream",
     "text": [
      "\t 1. Fix issue yourself!\n",
      "\t or\n",
      "\t 2. Select \bFix Image Folder Not Found Issue from bottom drop-downlist and run the CHECK ISSUE cell!\n"
     ]
    },
    {
     "data": {
      "text/html": [
       "<span style=\"font-size: 20px\">- all folders of images corrected have the same number of files? ........<span style=\"color:green\">OK!</span></span>"
      ],
      "text/plain": [
       "<IPython.core.display.HTML object>"
      ]
     },
     "metadata": {},
     "output_type": "display_data"
    }
   ],
   "source": [
    "if global_status['binning_list_of_files']:\n",
    "    display(HTML('<span style=\"font-size: 20px\">- binning_list_of_files found? ........  <span style=\"color:green\">OK!</span></span>'))\n",
    "    if global_status['all_images_folder_found']:\n",
    "        display(HTML('<span style=\"font-size: 20px\">- all images requested have their corrected folder? ........<span style=\"color:green\">OK!</span></span>'))\n",
    "    else:\n",
    "        display(HTML('<span style=\"font-size: 20px\">- all images requested have their corrected folder? ........<span style=\"color:red\">FAILED!</span></span>'))\n",
    "        display(HTML('<pre><span style=\"font-size: 18px\">    List of Folder(s) Missing:</span></pre>'))\n",
    "        for _folder in folder_not_found:\n",
    "            display(HTML('<pre><span style=\"fonts-size: 18px\">         ' + _folder + '</span></pre>'))\n",
    "        display(HTML('<pre><span style=\"font-size: 18px\">    <span style=\"font-weight: bold;\">How to Fix Issue:</span>'))\n",
    "        print(\"\\t 1. Fix issue yourself!\")\n",
    "        print(\"\\t or\")\n",
    "        print(\"\\t 2. Select Fix Image Folder Not Found Issue from bottom drop-downlist and run the CHECK ISSUE cell!\")\n",
    "\n",
    "    if global_status['all_folder_have_same_number_of_files']:\n",
    "        display(HTML('<span style=\"font-size: 20px\">- all folders of images corrected have the same number of files? ........<span style=\"color:green\">OK!</span></span>'))\n",
    "    else:\n",
    "        display(HTML('<span style=\"font-size: 20px\">- all folders of images corrected have the same number of files? ........<span style=\"color:red\">FAILED!</span></span>'))\n",
    "        display(HTML('<pre><span style=\"font-size: 18px\">    <span style=\"font-weight: bold;\">How to Fix Issue:</span>'))\n",
    "        print(\"\\t 1. Fix issue yourself!\")\n",
    "        print(\"\\t or\")\n",
    "        print(\"\\t 2. Select Get Complete Report on Number of Images per Folder from bottom drop-downlist and run CHECK ISSUE\")\n",
    "else:\n",
    "    display(HTML('<span style=\"font-size: 20px\">- binning_list_of_files found? ........  \\\n",
    "                 <span style=\"color:red\">FAILED!</span></span>'))\n",
    "    display(HTML('<span style=\"font-size: 20px\">------> <span style=\"font-weight: bold;\">How to Fix Issue:</span> run step4_making_time_binning_list_of_files</span>'))"
   ]
  },
  {
   "cell_type": "markdown",
   "metadata": {},
   "source": [
    "# Solutions "
   ]
  },
  {
   "cell_type": "code",
   "execution_count": 14,
   "metadata": {
    "collapsed": true
   },
   "outputs": [],
   "source": [
    "def run_selection():\n",
    "    print(\"here\")"
   ]
  },
  {
   "cell_type": "code",
   "execution_count": 28,
   "metadata": {
    "collapsed": false
   },
   "outputs": [],
   "source": [
    "from IPython.display import display\n",
    "fix_algo = ['None', 'Fix Image Folder Not Found Issue!', 'Get Complete Report on Number of Images per Folder']\n",
    "fix = widgets.Dropdown(options=fix_algo,\n",
    "                       description='Select your Solutions')\n",
    "display(fix)"
   ]
  },
  {
   "cell_type": "code",
   "execution_count": 38,
   "metadata": {
    "collapsed": false
   },
   "outputs": [
    {
     "name": "stdout",
     "output_type": "stream",
     "text": [
      "Image000: 1482\n",
      "Image001: 1482\n",
      "Image002: 1482\n",
      "Image003: 1482\n",
      "Image004: 1482\n",
      "Image005: 1482\n",
      "Image006: 1482\n",
      "Image007: 1482\n",
      "Image009: 1482\n",
      "Image010: 1482\n",
      "Image011: 1482\n",
      "Image012: 1482\n",
      "Image013: 1482\n",
      "Image014: 1482\n",
      "Image015: 1482\n",
      "Image016: 1482\n",
      "Image017: 1482\n",
      "Image018: 1482\n",
      "Image019: 1482\n",
      "Image020: 1482\n",
      "Image021: 1482\n",
      "Image022: 1482\n",
      "Image023: 1482\n",
      "Image024: 1482\n",
      "Image025: 1482\n",
      "Image026: 1482\n",
      "Image027: 1482\n",
      "Image028: 1482\n",
      "Image029: 1482\n",
      "Image030: 1482\n",
      "Image031: 1482\n",
      "Image032: 1482\n",
      "Image033: 1482\n",
      "Image034: 1482\n",
      "Image035: 1482\n",
      "Image036: 1482\n",
      "Image037: 1482\n",
      "Image038: 1482\n",
      "Image039: 1482\n",
      "Image040: 1482\n",
      "Image041: 1482\n",
      "Image042: 1482\n",
      "Image043: 1482\n",
      "Image044: 1482\n",
      "Image045: 1482\n"
     ]
    }
   ],
   "source": [
    "if fix.value == 'Fix Image Folder Not Found Issue!':\n",
    "    print(\"NOT IMPLEMENTED YET!\")\n",
    "elif fix.value == 'Get Complete Report on Number of Images per Folder':\n",
    "    dictionary_list_of_files = {}\n",
    "    dictionary_list_of_files['folder_name'] = []\n",
    "    dictionary_list_of_files['number_of_files'] = []\n",
    "    \n",
    "    folder_name_array = []\n",
    "    number_of_files_array = []\n",
    "    \n",
    "    for _images_in_bin in list_images:\n",
    "        for _image in _images_in_bin:\n",
    "            _image_number = utilities.keep_folder_name(_image)\n",
    "            _full_image_path = os.path.join(input_raw_folder, _image_number)\n",
    "            if os.path.exists(_full_image_path):\n",
    "                _nbr_files = len([name for name in os.listdir(_full_image_path) \\\n",
    "                                  if (os.path.isfile(os.path.join(_full_image_path, name)) and \\\n",
    "                                                     (utilities.is_extension(name, '.fits')))])\n",
    "                folder_name_array.append(_image_number)\n",
    "                number_of_files_array.append(_nbr_files)\n",
    "\n",
    "    dictionary_list_of_files['folder_name'] = folder_name_array\n",
    "    dictionary_list_of_files['number_of_files'] = number_of_files_array\n",
    "    \n",
    "for _index, _folder_name in enumerate(folder_name_array):\n",
    "    print(\"{}: {}\".format(_folder_name, dictionary_list_of_files['number_of_files'][_index]))"
   ]
  },
  {
   "cell_type": "code",
   "execution_count": null,
   "metadata": {
    "collapsed": true
   },
   "outputs": [],
   "source": []
  }
 ],
 "metadata": {
  "anaconda-cloud": {},
  "kernelspec": {
   "display_name": "Python [default]",
   "language": "python",
   "name": "python3"
  },
  "language_info": {
   "codemirror_mode": {
    "name": "ipython",
    "version": 3
   },
   "file_extension": ".py",
   "mimetype": "text/x-python",
   "name": "python",
   "nbconvert_exporter": "python",
   "pygments_lexer": "ipython3",
   "version": "3.5.2"
  },
  "widgets": {
   "state": {
    "001fa5cb6eff45c0b0a916f626b374df": {
     "views": [
      {
       "cell_index": 18
      }
     ]
    }
   },
   "version": "1.2.0"
  }
 },
 "nbformat": 4,
 "nbformat_minor": 0
}
