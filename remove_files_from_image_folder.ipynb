{
 "cells": [
  {
   "cell_type": "markdown",
   "metadata": {},
   "source": [
    "This will keep a given number of files in each folder..... to make a good test case (for debugging algo)"
   ]
  },
  {
   "cell_type": "code",
   "execution_count": 18,
   "metadata": {
    "collapsed": true
   },
   "outputs": [],
   "source": [
    "from ipywidgets import widgets\n",
    "import os\n",
    "\n",
    "import gui_widgets\n",
    "import config_handler"
   ]
  },
  {
   "cell_type": "code",
   "execution_count": 19,
   "metadata": {
    "collapsed": true
   },
   "outputs": [],
   "source": [
    "%gui qt"
   ]
  },
  {
   "cell_type": "code",
   "execution_count": 20,
   "metadata": {
    "collapsed": false
   },
   "outputs": [],
   "source": [
    "root_folder = config_handler.load_config(key = 'root_folder', \\\n",
    "                                         default_value = '/Volumes/my_book_thunderbolt_duo/IPTS/sebastien/')\n",
    "test_folder = gui_widgets.gui_dname(dir=root_folder,\n",
    "                                           message='Select the Folder with Test ImagesCases ...')"
   ]
  },
  {
   "cell_type": "markdown",
   "metadata": {},
   "source": [
    "Specify the number of images to keep"
   ]
  },
  {
   "cell_type": "code",
   "execution_count": 21,
   "metadata": {
    "collapsed": true
   },
   "outputs": [],
   "source": [
    "nbr_image_to_keep = 20"
   ]
  },
  {
   "cell_type": "code",
   "execution_count": 22,
   "metadata": {
    "collapsed": false
   },
   "outputs": [],
   "source": [
    "list_dir = os.listdir(test_folder)"
   ]
  },
  {
   "cell_type": "code",
   "execution_count": 23,
   "metadata": {
    "collapsed": true
   },
   "outputs": [],
   "source": [
    "def remove_image(file_name):\n",
    "    os.remove(file_name)"
   ]
  },
  {
   "cell_type": "code",
   "execution_count": 26,
   "metadata": {
    "collapsed": false
   },
   "outputs": [],
   "source": [
    "for _image in list_dir:\n",
    "    if _image == '.DS_Store':\n",
    "        continue\n",
    "    full_path = os.path.join(test_folder, _image)\n",
    "    list_images = os.listdir(full_path)\n",
    "    if len(list_images)>nbr_image_to_keep:\n",
    "        list_images_to_remove = list_images[nbr_image_to_keep:]\n",
    "        for _image_to_remove in list_images_to_remove:\n",
    "            full_path_image = os.path.join(full_path, _image_to_remove)\n",
    "            remove_image(full_path_image)"
   ]
  },
  {
   "cell_type": "code",
   "execution_count": null,
   "metadata": {
    "collapsed": true
   },
   "outputs": [],
   "source": []
  }
 ],
 "metadata": {
  "kernelspec": {
   "display_name": "Python [conda env:py35]",
   "language": "python",
   "name": "conda-env-py35-py"
  },
  "language_info": {
   "codemirror_mode": {
    "name": "ipython",
    "version": 3
   },
   "file_extension": ".py",
   "mimetype": "text/x-python",
   "name": "python",
   "nbconvert_exporter": "python",
   "pygments_lexer": "ipython3",
   "version": "3.5.2"
  }
 },
 "nbformat": 4,
 "nbformat_minor": 0
}
