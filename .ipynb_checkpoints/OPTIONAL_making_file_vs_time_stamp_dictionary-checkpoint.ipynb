{
 "cells": [
  {
   "cell_type": "code",
   "execution_count": 4,
   "metadata": {
    "collapsed": false
   },
   "outputs": [],
   "source": [
    "verbose = True\n",
    "\n",
    "import time\n",
    "import os\n",
    "import glob\n",
    "from pprint import pprint\n",
    "import matplotlib.pyplot as plt\n",
    "%matplotlib notebook\n",
    "\n",
    "from ipywidgets import widgets\n",
    "from IPython.display import display\n",
    "\n",
    "import gui_widgets\n",
    "import config_handler\n",
    "import time_utility\n",
    "import file_handler"
   ]
  },
  {
   "cell_type": "code",
   "execution_count": 2,
   "metadata": {
    "collapsed": true
   },
   "outputs": [],
   "source": [
    "%gui qt"
   ]
  },
  {
   "cell_type": "markdown",
   "metadata": {},
   "source": [
    "## Select working data set"
   ]
  },
  {
   "cell_type": "code",
   "execution_count": 3,
   "metadata": {
    "collapsed": false
   },
   "outputs": [
    {
     "name": "stdout",
     "output_type": "stream",
     "text": [
      "('folder requested: '\n",
      " '/Volumes/my_book_thunderbolt_duo/IPTS/sebastien/September3_2015')\n",
      "'Number of images: 84'\n",
      "['/Volumes/my_book_thunderbolt_duo/IPTS/sebastien/September3_2015/Image000_00000.fits',\n",
      " '/Volumes/my_book_thunderbolt_duo/IPTS/sebastien/September3_2015/Image001_00000.fits',\n",
      " '/Volumes/my_book_thunderbolt_duo/IPTS/sebastien/September3_2015/Image002_00000.fits',\n",
      " '/Volumes/my_book_thunderbolt_duo/IPTS/sebastien/September3_2015/Image003_00000.fits',\n",
      " '/Volumes/my_book_thunderbolt_duo/IPTS/sebastien/September3_2015/Image004_00000.fits',\n",
      " '/Volumes/my_book_thunderbolt_duo/IPTS/sebastien/September3_2015/Image005_00000.fits',\n",
      " '/Volumes/my_book_thunderbolt_duo/IPTS/sebastien/September3_2015/Image006_00000.fits',\n",
      " '/Volumes/my_book_thunderbolt_duo/IPTS/sebastien/September3_2015/Image007_00000.fits',\n",
      " '/Volumes/my_book_thunderbolt_duo/IPTS/sebastien/September3_2015/Image008_00000.fits',\n",
      " '/Volumes/my_book_thunderbolt_duo/IPTS/sebastien/September3_2015/Image009_00000.fits']\n"
     ]
    }
   ],
   "source": [
    "root_folder = config_handler.load_config(key = 'root_folder', \\\n",
    "                                         default_value = '/Volumes/my_book_thunderbolt_duo/IPTS/sebastien/')\n",
    "data_dir = gui_widgets.gui_dname(dir = root_folder)\n",
    "\n",
    "config_handler.save_config(key='data_dir', value=data_dir)\n",
    "config_handler.save_config(key='root_folder', value=root_folder)\n",
    "\n",
    "# We are only keeping all the first file of each image\n",
    "# list all *.fits file from data_dir\n",
    "list_fname = glob.glob(data_dir + '/*0000.fits')\n",
    "\n",
    "number_of_files = len(list_fname)\n",
    "if verbose:\n",
    "    pprint(\"folder requested: %s\" %data_dir)\n",
    "    pprint(\"Number of images: %d\" %number_of_files)\n",
    "\n",
    "if verbose:\n",
    "    pprint(list_fname[0:10])"
   ]
  },
  {
   "cell_type": "markdown",
   "metadata": {},
   "source": [
    "## Retrieving time stamp (when the file was created)"
   ]
  },
  {
   "cell_type": "code",
   "execution_count": null,
   "metadata": {
    "collapsed": false
   },
   "outputs": [],
   "source": [
    "w = widgets.IntProgress()\n",
    "w.max = number_of_files\n",
    "\n",
    "display(w)\n",
    "\n",
    "file_time_dictionary = {}\n",
    "for index, _file in enumerate(list_fname):\n",
    "    date_time_stamp = time.ctime(os.path.getmtime(_file))\n",
    "    [file_name, time_metadata] = time_utility.format_time_stamp(file_name = _file,\n",
    "                                                      time_stamp = date_time_stamp)\n",
    "    file_time_dictionary[file_name] = time_metadata\n",
    "#    print(\"%s -> %s\" %(_file, date_time_stamp))\n",
    "    \n",
    "    w.value = index+1\n",
    "\n",
    "w.visible = False\n",
    "\n",
    "if verbose:\n",
    "    pprint(\"Infos about first image:\")\n",
    "    pprint(file_time_dictionary[list_fname[0]])\n",
    "    pprint()\n",
    "    pprint(\"Infos about last image:\")\n",
    "    pprint(file_time_dictionary[list_fname[-1]])"
   ]
  },
  {
   "cell_type": "markdown",
   "metadata": {},
   "source": [
    "### output the dictionary using pickle"
   ]
  },
  {
   "cell_type": "code",
   "execution_count": null,
   "metadata": {
    "collapsed": true
   },
   "outputs": [],
   "source": [
    "base_file_name = data_folder.split('/')[0]\n",
    "suffix = '_time_dictionary.dat'\n",
    "\n",
    "output_file = file_handler.save_file(folder = root_folder,\n",
    "                                    base_file_name = data_folder.split('/')[0],\n",
    "                                    suffix = '_time_dictionary.dat',\n",
    "                                    dictionary = file_time_dictionary)\n",
    "\n",
    "if verbose:\n",
    "    print(\"Creating file {}\".format(output_file))"
   ]
  }
 ],
 "metadata": {
  "kernelspec": {
   "display_name": "Python 3",
   "language": "python",
   "name": "python3"
  },
  "language_info": {
   "codemirror_mode": {
    "name": "ipython",
    "version": 3
   },
   "file_extension": ".py",
   "mimetype": "text/x-python",
   "name": "python",
   "nbconvert_exporter": "python",
   "pygments_lexer": "ipython3",
   "version": "3.5.2"
  }
 },
 "nbformat": 4,
 "nbformat_minor": 0
}
