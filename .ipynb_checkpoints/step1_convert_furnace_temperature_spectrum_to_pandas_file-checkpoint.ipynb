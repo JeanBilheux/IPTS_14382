{
 "cells": [
  {
   "cell_type": "code",
   "execution_count": 5,
   "metadata": {
    "collapsed": true
   },
   "outputs": [],
   "source": [
    "verbose = True\n",
    "\n",
    "import time\n",
    "import datetime\n",
    "import os\n",
    "import glob\n",
    "from pprint import pprint\n",
    "import matplotlib.pyplot as plt\n",
    "%matplotlib notebook\n",
    "\n",
    "import pandas as pd\n",
    "import numpy as np\n",
    "\n",
    "from ipywidgets import widgets\n",
    "from IPython.display import display\n",
    "\n",
    "import gui_widgets\n",
    "import config_handler\n",
    "import time_utility\n",
    "import file_handler"
   ]
  },
  {
   "cell_type": "code",
   "execution_count": null,
   "metadata": {
    "collapsed": true
   },
   "outputs": [],
   "source": [
    "%gui qt"
   ]
  },
  {
   "cell_type": "markdown",
   "metadata": {},
   "source": [
    "## Select Vacuum Furnace File "
   ]
  },
  {
   "cell_type": "markdown",
   "metadata": {},
   "source": [
    "temperature_file = 'Vacuum_Furnace.txt'"
   ]
  },
  {
   "cell_type": "code",
   "execution_count": 6,
   "metadata": {
    "collapsed": true
   },
   "outputs": [],
   "source": [
    "root_folder = config_handler.load_config(key = 'root_folder', \\\n",
    "                                         default_value = '/Volumes/my_book_thunderbolt_duo/IPTS/sebastien/')\n",
    "\n",
    "full_temperature_file = gui_widgets.gui_fname(dir = root_folder, message=\"Select the Vacuum Furnace File\", ext='txt')"
   ]
  },
  {
   "cell_type": "code",
   "execution_count": null,
   "metadata": {
    "collapsed": true
   },
   "outputs": [],
   "source": [
    "my_header = [None, \"furnace vacuum2\", None, \"furnace vacuum1\", None, \"tolerance\",\n",
    "            None, \"%power\", None, \"OT Temp\", None, \"Ramp SP\", None,\n",
    "            \"OT SP\", None, \"Setpoint\", None, \"Sample\", None]\n",
    "df = pd.read_csv(full_temperature_file, sep='\\t', names=my_header, )\n",
    "df = df.reset_index()\n",
    "\n",
    "if verbose:\n",
    "    print(\"Before removing empty columns\")\n",
    "    df.info()\n",
    "    df.head()\n",
    "\n",
    "try:\n",
    "    del df[None] #removing empty columns\n",
    "except:\n",
    "    pass\n",
    "\n",
    "if verbose:\n",
    "    print(\"After removing empty columns\")\n",
    "    df.head()\n",
    "\n",
    "# removing useless columns\n",
    "new_df = df.drop(df.columns[[1,2,3,4,5,6,7,8,10,11,12,13,14,15,16,17,18]], axis=1)\n",
    "\n",
    "if verbose:\n",
    "    new_df.head()\n",
    "    fig = plt.figure()\n",
    "    df['OT Temp'].plot()"
   ]
  },
  {
   "cell_type": "markdown",
   "metadata": {},
   "source": [
    "### convert to pandas time format "
   ]
  },
  {
   "cell_type": "code",
   "execution_count": 16,
   "metadata": {
    "collapsed": false
   },
   "outputs": [],
   "source": [
    "new_df['index'] = pd.to_datetime(new_df['index'])\n",
    "if verbose:\n",
    "    new_df.head()"
   ]
  },
  {
   "cell_type": "markdown",
   "metadata": {},
   "source": [
    "### convert to time stamp "
   ]
  },
  {
   "cell_type": "code",
   "execution_count": 19,
   "metadata": {
    "collapsed": true
   },
   "outputs": [],
   "source": [
    "def conv(x):\n",
    "    return time.mktime(datetime.datetime.strptime(str(x), \"%Y-%m-%d %H:%M:%S\").timetuple())\n",
    "\n",
    "new_df['index'] = new_df['index'].apply(conv)\n",
    "\n",
    "if verbose:\n",
    "    new_df.head()"
   ]
  },
  {
   "cell_type": "markdown",
   "metadata": {},
   "source": [
    "## Output the temperature spectrum "
   ]
  },
  {
   "cell_type": "code",
   "execution_count": 24,
   "metadata": {
    "collapsed": false
   },
   "outputs": [],
   "source": [
    "new_df = new_df.set_index('index')\n",
    "\n",
    "output_file = root_folder + 'temperature_spectrum.csv'\n",
    "new_df.to_csv(output_file, header=False)\n",
    "\n",
    "if verbose:\n",
    "    new_df.head()\n",
    "    new_df.plot(y='OT Temp')"
   ]
  },
  {
   "cell_type": "code",
   "execution_count": null,
   "metadata": {
    "collapsed": true
   },
   "outputs": [],
   "source": []
  }
 ],
 "metadata": {
  "kernelspec": {
   "display_name": "Python 3",
   "language": "python",
   "name": "python3"
  },
  "language_info": {
   "codemirror_mode": {
    "name": "ipython",
    "version": 3
   },
   "file_extension": ".py",
   "mimetype": "text/x-python",
   "name": "python",
   "nbconvert_exporter": "python",
   "pygments_lexer": "ipython3",
   "version": "3.5.2"
  }
 },
 "nbformat": 4,
 "nbformat_minor": 0
}
