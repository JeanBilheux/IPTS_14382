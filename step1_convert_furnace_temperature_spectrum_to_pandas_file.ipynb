{
 "cells": [
  {
   "cell_type": "markdown",
   "metadata": {},
   "source": [
    "# Table of Contents\n",
    "* [Description](#Description)\n",
    "* [Import](#Import)\n",
    "* [Select Vacuum Furnace File](#Select-Vacuum-Furnace-File)\n",
    "\t* [convert to pandas time format](#convert-to-pandas-time-format)\n",
    "\t* [convert to time stamp](#convert-to-time-stamp)\n",
    "* [Output the temperature spectrum](#Output-the-temperature-spectrum)\n"
   ]
  },
  {
   "cell_type": "markdown",
   "metadata": {},
   "source": [
    "# Description "
   ]
  },
  {
   "cell_type": "markdown",
   "metadata": {},
   "source": [
    "**<span style=\"color:red\">IMPORTANT</span>** All cells can be run at once  ---->   **  Cell > Run All **\n",
    "\n",
    "This notebook will parse the complex Vacuum Furnace file and will only retrieve the time_stamp and the temperature. \n",
    "\n",
    "**NB** This notebook only needs to be ran once for a given Vacuum Furnace File. \n",
    "\n",
    "\n",
    "**Vacuum_Furnace.txt**\n",
    "```\n",
    "9/2/2015  4:29:19 PM\tfurnacevacuum2 \t0.000000\tfurnacevacuum1 \t0.000000\tTolerance \t10.000000\t%Power \t8.000000\tOT Temp\t107.000000\tRamp SP \t500.000000\tOT SP \t1450.000000\tSetpoint \t500.000000\tSample \t95.000000\t\n",
    "9/2/2015  4:29:41 PM\tfurnacevacuum2 \t0.000000\tfurnacevacuum1 \t0.000000\tTolerance \t10.000000\t%Power \t3.000000\tOT Temp\t109.000000\tRamp SP \t500.000000\tOT SP \t1450.000000\tSetpoint \t500.000000\tSample \t99.000000\t\n",
    "9/2/2015  4:30:03 PM\tfurnacevacuum2 \t0.000000\tfurnacevacuum1 \t0.000000\tTolerance \t10.000000\t%Power \t5.000000\tOT Temp\t111.000000\tRamp SP \t500.000000\tOT SP \t1450.000000\tSetpoint \t500.000000\tSample \t103.000000\t\n",
    "9/2/2015  4:30:25 PM\tfurnacevacuum2 \t0.000000\tfurnacevacuum1 \t0.000000\tTolerance \t10.000000\t%Power \t8.000000\tOT Temp\t113.000000\tRamp SP \t500.000000\tOT SP \t1450.000000\tSetpoint \t500.000000\tSample \t104.000000\t\n",
    "9/2/2015  4:30:46 PM\tfurnacevacuum2 \t0.000000\tfurnacevacuum1 \t0.000000\tTolerance \t10.000000\t%Power \t8.000000\tOT Temp\t114.000000\tRamp SP \t500.000000\tOT SP \t1450.000000\tSetpoint \t500.000000\tSample \t106.000000\t\n",
    "9/2/2015  4:31:10 PM\tfurnacevacuum2 \t0.000000\tfurnacevacuum1 \t0.000000\tTolerance \t10.000000\t%Power \t4.000000\tOT Temp\t119.000000\tRamp SP \t500.000000\tOT SP \t1450.000000\tSetpoint \t500.000000\tSample \t111.000000\t\n",
    "9/2/2015  4:31:32 PM\tfurnacevacuum2 \t0.000000\tfurnacevacuum1 \t0.000000\tTolerance \t10.000000\t%Power \t7.000000\tOT Temp\t123.000000\tRamp SP \t500.000000\tOT SP \t1450.000000\tSetpoint \t500.000000\tSample \t113.000000\n",
    "\n",
    "...\n",
    "\n",
    "```"
   ]
  },
  {
   "cell_type": "markdown",
   "metadata": {},
   "source": [
    "An ascii file with those infos will be created and will be used by the step3 notebook\n",
    "\n",
    "The following comma separated file will be created\n",
    "\n",
    "**temperature_spectrum.csv**\n",
    "```\n",
    "1441225042.0,22.0\n",
    "1441225064.0,22.0\n",
    "1441225086.0,22.0\n",
    "1441225107.0,22.0\n",
    "1441225129.0,22.0\n",
    "1441225151.0,22.0\n",
    "1441225172.0,22.0\n",
    "1441225194.0,22.0\n",
    "1441225216.0,22.0\n",
    "1441225238.0,22.0\n",
    "1441225259.0,22.0\n",
    "1441225281.0,22.0\n",
    "1441225303.0,22.0\n",
    "1441225325.0,23.0\n",
    "1441225346.0,25.0\n",
    "1441225368.0,27.0\n",
    "1441225390.0,30.0\n",
    "1441225412.0,33.0\n",
    "1441225433.0,36.0\n",
    "1441225455.0,40.0\n",
    "1441225477.0,43.0\n",
    "1441225499.0,47.0\n",
    "1441225520.0,51.0\n",
    "1441225542.0,54.0\n",
    "1441225564.0,57.0\n",
    "1441225586.0,62.0\n",
    "...\n",
    "```"
   ]
  },
  {
   "cell_type": "markdown",
   "metadata": {},
   "source": [
    "where the first column is the time stamp in seconds since 1970 (this is a scale used to match file and furnace time), and the second column is the Temperature of the Furnace."
   ]
  },
  {
   "cell_type": "markdown",
   "metadata": {},
   "source": [
    "# Import "
   ]
  },
  {
   "cell_type": "code",
   "execution_count": 5,
   "metadata": {
    "collapsed": false
   },
   "outputs": [
    {
     "name": "stdout",
     "output_type": "stream",
     "text": [
      "win32\n"
     ]
    }
   ],
   "source": [
    "import sys\n",
    "print(sys.platform)"
   ]
  },
  {
   "cell_type": "code",
   "execution_count": 12,
   "metadata": {
    "collapsed": false
   },
   "outputs": [],
   "source": [
    "verbose = True\n",
    "\n",
    "import time\n",
    "import datetime\n",
    "import os\n",
    "import glob\n",
    "from pprint import pprint\n",
    "import matplotlib.pyplot as plt\n",
    "%matplotlib notebook\n",
    "\n",
    "import pandas as pd\n",
    "import numpy as np\n",
    "\n",
    "from ipywidgets import widgets\n",
    "from IPython.display import display\n",
    "\n",
    "import config_handler\n",
    "import time_utility\n",
    "import file_handler\n",
    "\n",
    "import sys\n",
    "\n",
    "if sys.platform == 'darwin':\n",
    "    my_system = 'mac'\n",
    "elif sys.platform == 'win32':\n",
    "    my_system = 'windows'"
   ]
  },
  {
   "cell_type": "markdown",
   "metadata": {},
   "source": [
    "# Import Vacuum Furnace File "
   ]
  },
  {
   "cell_type": "code",
   "execution_count": 14,
   "metadata": {
    "collapsed": false
   },
   "outputs": [
    {
     "name": "stdout",
     "output_type": "stream",
     "text": [
      "Before removing empty columns\n",
      "                  index  NaN  furnace\\ vacuum2  NaN  furnace\\ vacuum1  NaN  \\\n",
      "0  9/2/2015  4:17:22 PM  NaN               0.0  NaN               0.0  NaN   \n",
      "1  9/2/2015  4:17:44 PM  NaN               0.0  NaN               0.0  NaN   \n",
      "2  9/2/2015  4:18:06 PM  NaN               0.0  NaN               0.0  NaN   \n",
      "3  9/2/2015  4:18:27 PM  NaN               0.0  NaN               0.0  NaN   \n",
      "4  9/2/2015  4:18:49 PM  NaN               0.0  NaN               0.0  NaN   \n",
      "\n",
      "   tolerance  NaN  %power  NaN  OT\\ Temp  NaN  Ramp\\ SP  NaN  OT\\ SP  NaN  \\\n",
      "0       10.0  NaN     0.0  NaN      22.0  NaN     500.0  NaN  1450.0  NaN   \n",
      "1       10.0  NaN     0.0  NaN      22.0  NaN     500.0  NaN  1450.0  NaN   \n",
      "2       10.0  NaN     0.0  NaN      22.0  NaN     500.0  NaN  1450.0  NaN   \n",
      "3       10.0  NaN     0.0  NaN      22.0  NaN     500.0  NaN  1450.0  NaN   \n",
      "4       10.0  NaN     0.0  NaN      22.0  NaN     500.0  NaN  1450.0  NaN   \n",
      "\n",
      "   Setpoint  NaN  Sample  NaN  \n",
      "0       0.0  NaN    20.0  NaN  \n",
      "1       0.0  NaN    20.0  NaN  \n",
      "2     500.0  NaN    20.0  NaN  \n",
      "3     500.0  NaN    20.0  NaN  \n",
      "4     500.0  NaN    20.0  NaN  \n",
      "After removing empty columns\n",
      "                  index  furnace\\ vacuum2  furnace\\ vacuum1  tolerance  \\\n",
      "0  9/2/2015  4:17:22 PM               0.0               0.0       10.0   \n",
      "1  9/2/2015  4:17:44 PM               0.0               0.0       10.0   \n",
      "2  9/2/2015  4:18:06 PM               0.0               0.0       10.0   \n",
      "3  9/2/2015  4:18:27 PM               0.0               0.0       10.0   \n",
      "4  9/2/2015  4:18:49 PM               0.0               0.0       10.0   \n",
      "\n",
      "   %power  OT\\ Temp  Ramp\\ SP  OT\\ SP  Setpoint  Sample  \n",
      "0     0.0      22.0     500.0  1450.0       0.0    20.0  \n",
      "1     0.0      22.0     500.0  1450.0       0.0    20.0  \n",
      "2     0.0      22.0     500.0  1450.0     500.0    20.0  \n",
      "3     0.0      22.0     500.0  1450.0     500.0    20.0  \n",
      "4     0.0      22.0     500.0  1450.0     500.0    20.0  \n"
     ]
    },
    {
     "ename": "NameError",
     "evalue": "name 'new_df' is not defined",
     "output_type": "error",
     "traceback": [
      "\u001b[0;31m---------------------------------------------------------------------------\u001b[0m",
      "\u001b[0;31mNameError\u001b[0m                                 Traceback (most recent call last)",
      "\u001b[0;32m<ipython-input-14-06da35c16f8c>\u001b[0m in \u001b[0;36m<module>\u001b[0;34m()\u001b[0m\n\u001b[1;32m     34\u001b[0m \u001b[1;33m\u001b[0m\u001b[0m\n\u001b[1;32m     35\u001b[0m \u001b[1;32mif\u001b[0m \u001b[0mverbose\u001b[0m\u001b[1;33m:\u001b[0m\u001b[1;33m\u001b[0m\u001b[0m\n\u001b[0;32m---> 36\u001b[0;31m     \u001b[0mpprint\u001b[0m\u001b[1;33m(\u001b[0m\u001b[0mnew_df\u001b[0m\u001b[1;33m.\u001b[0m\u001b[0mhead\u001b[0m\u001b[1;33m(\u001b[0m\u001b[1;33m)\u001b[0m\u001b[1;33m)\u001b[0m\u001b[1;33m\u001b[0m\u001b[0m\n\u001b[0m\u001b[1;32m     37\u001b[0m     \u001b[0mfig\u001b[0m \u001b[1;33m=\u001b[0m \u001b[0mplt\u001b[0m\u001b[1;33m.\u001b[0m\u001b[0mfigure\u001b[0m\u001b[1;33m(\u001b[0m\u001b[1;33m)\u001b[0m\u001b[1;33m\u001b[0m\u001b[0m\n\u001b[1;32m     38\u001b[0m     \u001b[1;32mif\u001b[0m \u001b[0mmy_system\u001b[0m \u001b[1;33m==\u001b[0m \u001b[1;34m'mac'\u001b[0m\u001b[1;33m:\u001b[0m\u001b[1;33m\u001b[0m\u001b[0m\n",
      "\u001b[0;31mNameError\u001b[0m: name 'new_df' is not defined"
     ]
    }
   ],
   "source": [
    "temperature_file = 'Vacuum_Furnace.txt'\n",
    "furnace_file_folder = config_handler.load_config(key = 'furnace_file_folder')\n",
    "full_temperature_file = os.path.join(furnace_file_folder, temperature_file)\n",
    "\n",
    "if my_system == 'mac':\n",
    "    my_header = [None, \"furnace vacuum2\", None, \"furnace vacuum1\", None, \"tolerance\",\n",
    "                None, \"%power\", None, \"OT Temp\", None, \"Ramp SP\", None,\n",
    "                \"OT SP\", None, \"Setpoint\", None, \"Sample\", None]\n",
    "else:\n",
    "    my_header = [None, \"furnace\\ vacuum2\", None, \"furnace\\ vacuum1\", None, \"tolerance\",\n",
    "                None, \"%power\", None, \"OT\\ Temp\", None, \"Ramp\\ SP\", None,\n",
    "                \"OT\\ SP\", None, \"Setpoint\", None, \"Sample\", None]\n",
    "    \n",
    "df = pd.read_csv(full_temperature_file, sep='\\t', names=my_header)\n",
    "df = df.reset_index()\n",
    "\n",
    "if verbose:\n",
    "    print(\"Before removing empty columns\")\n",
    "#    pprint(df.info())\n",
    "    pprint(df.head())\n",
    "\n",
    "try:\n",
    "    del df[None] #removing empty columns\n",
    "except:\n",
    "    pass\n",
    "\n",
    "if verbose:\n",
    "    print(\"After removing empty columns\")\n",
    "    pprint(df.head())\n",
    "\n",
    "# removing useless columns\n",
    "if my_system == 'mac':\n",
    "    new_df = df.drop(df.columns[[1,2,3,4,5,6,7,8,10,11,12,13,14,15,16,17,18]], axis=1)\n",
    "else:\n",
    "    new_df = \n",
    "    \n",
    "if verbose:\n",
    "    pprint(new_df.head())\n",
    "    fig = plt.figure()\n",
    "    if my_system == 'mac':\n",
    "        df['OT Temp'].plot()\n",
    "    else:\n",
    "        df['OT\\ Temp'].plot()"
   ]
  },
  {
   "cell_type": "markdown",
   "metadata": {},
   "source": [
    "## convert to pandas time format "
   ]
  },
  {
   "cell_type": "code",
   "execution_count": null,
   "metadata": {
    "collapsed": false
   },
   "outputs": [],
   "source": [
    "new_df['index'] = pd.to_datetime(new_df['index'])\n",
    "if verbose:\n",
    "    pprint(new_df.head())"
   ]
  },
  {
   "cell_type": "markdown",
   "metadata": {},
   "source": [
    "## convert to time stamp "
   ]
  },
  {
   "cell_type": "code",
   "execution_count": null,
   "metadata": {
    "collapsed": false
   },
   "outputs": [],
   "source": [
    "def conv(x):\n",
    "    return time.mktime(datetime.datetime.strptime(str(x), \"%Y-%m-%d %H:%M:%S\").timetuple())\n",
    "\n",
    "new_df_2 = new_df\n",
    "new_df_2['index'] = new_df['index'].apply(conv)\n",
    "\n",
    "if verbose:\n",
    "    pprint(new_df_2.head())"
   ]
  },
  {
   "cell_type": "markdown",
   "metadata": {},
   "source": [
    "# Output the temperature spectrum "
   ]
  },
  {
   "cell_type": "code",
   "execution_count": null,
   "metadata": {
    "collapsed": false
   },
   "outputs": [],
   "source": [
    "new_df = new_df_2.set_index('index')\n",
    "\n",
    "output_folder = config_handler.load_config(key = 'output_folder')\n",
    "output_file = os.path.join(output_folder, 'temperature_spectrum.csv')\n",
    "new_df.to_csv(output_file, header=False)\n",
    "\n",
    "if verbose:\n",
    "    pprint(new_df_2.head())\n",
    "    pprint(new_df_2.plot(y='OT Temp')"
   ]
  },
  {
   "cell_type": "code",
   "execution_count": null,
   "metadata": {
    "collapsed": true
   },
   "outputs": [],
   "source": []
  }
 ],
 "metadata": {
  "anaconda-cloud": {},
  "kernelspec": {
   "display_name": "Python [default]",
   "language": "python",
   "name": "python3"
  },
  "language_info": {
   "codemirror_mode": {
    "name": "ipython",
    "version": 3
   },
   "file_extension": ".py",
   "mimetype": "text/x-python",
   "name": "python",
   "nbconvert_exporter": "python",
   "pygments_lexer": "ipython3",
   "version": "3.5.2"
  }
 },
 "nbformat": 4,
 "nbformat_minor": 0
}
