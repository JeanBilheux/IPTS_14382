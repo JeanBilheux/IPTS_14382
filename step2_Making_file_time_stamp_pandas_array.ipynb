{
 "cells": [
  {
   "cell_type": "markdown",
   "metadata": {},
   "source": [
    "## Explanations"
   ]
  },
  {
   "cell_type": "markdown",
   "metadata": {},
   "source": [
    "This notebook will create another database (pandas) of the file name vs time_stamp of the file. The output of this file, with the output of the step1 notebook will allow to match file_name with the furnace temperature.\n",
    "\n",
    "**....time_file_name.csv**\n",
    "```\n",
    "1441276190.0,/Volumes/LaCie/Data_Sebastien/Sebastien_raw_September_2015/Image000_00000.fits\n",
    "1441276602.0,/Volumes/LaCie/Data_Sebastien/Sebastien_raw_September_2015/Image001_00000.fits\n",
    "1441277010.0,/Volumes/LaCie/Data_Sebastien/Sebastien_raw_September_2015/Image002_00000.fits\n",
    "1441277424.0,/Volumes/LaCie/Data_Sebastien/Sebastien_raw_September_2015/Image003_00000.fits\n",
    "1441277836.0,/Volumes/LaCie/Data_Sebastien/Sebastien_raw_September_2015/Image004_00000.fits\n",
    "1441278254.0,/Volumes/LaCie/Data_Sebastien/Sebastien_raw_September_2015/Image005_00000.fits\n",
    "1441278664.0,/Volumes/LaCie/Data_Sebastien/Sebastien_raw_September_2015/Image006_00000.fits\n",
    "1441279078.0,/Volumes/LaCie/Data_Sebastien/Sebastien_raw_September_2015/Image007_00000.fits\n",
    "1441279490.0,/Volumes/LaCie/Data_Sebastien/Sebastien_raw_September_2015/Image008_00000.fits\n",
    "1441279910.0,/Volumes/LaCie/Data_Sebastien/Sebastien_raw_September_2015/Image009_00000.fits\n",
    "1441280322.0,/Volumes/LaCie/Data_Sebastien/Sebastien_raw_September_2015/Image010_00000.fits\n",
    "1441280738.0,/Volumes/LaCie/Data_Sebastien/Sebastien_raw_September_2015/Image011_00000.fits\n",
    "...\n",
    "\n",
    "```\n",
    "\n",
    "where the first column is the time stamp (when the file was created) and the second column the full file name"
   ]
  },
  {
   "cell_type": "markdown",
   "metadata": {},
   "source": [
    "## Import"
   ]
  },
  {
   "cell_type": "code",
   "execution_count": 22,
   "metadata": {
    "collapsed": true
   },
   "outputs": [],
   "source": [
    "verbose = True\n",
    "\n",
    "import time\n",
    "import os\n",
    "import glob\n",
    "from pprint import pprint\n",
    "import matplotlib.pyplot as plt\n",
    "%matplotlib notebook\n",
    "\n",
    "from ipywidgets import widgets\n",
    "from IPython.display import display\n",
    "\n",
    "import gui_widgets\n",
    "import config_handler\n",
    "import time_utility\n",
    "import file_handler"
   ]
  },
  {
   "cell_type": "code",
   "execution_count": 23,
   "metadata": {
    "collapsed": true
   },
   "outputs": [],
   "source": [
    "%gui qt"
   ]
  },
  {
   "cell_type": "markdown",
   "metadata": {},
   "source": [
    "## Select working data set"
   ]
  },
  {
   "cell_type": "code",
   "execution_count": 24,
   "metadata": {
    "collapsed": false
   },
   "outputs": [
    {
     "name": "stdout",
     "output_type": "stream",
     "text": [
      "'folder requested: /Volumes/LaCie/Data_Sebastien/Sebastien_raw_September_2015'\n",
      "'Number of images: 51'\n",
      "['/Volumes/LaCie/Data_Sebastien/Sebastien_raw_September_2015/Image000_00000.fits',\n",
      " '/Volumes/LaCie/Data_Sebastien/Sebastien_raw_September_2015/Image001_00000.fits',\n",
      " '/Volumes/LaCie/Data_Sebastien/Sebastien_raw_September_2015/Image002_00000.fits',\n",
      " '/Volumes/LaCie/Data_Sebastien/Sebastien_raw_September_2015/Image003_00000.fits',\n",
      " '/Volumes/LaCie/Data_Sebastien/Sebastien_raw_September_2015/Image004_00000.fits',\n",
      " '/Volumes/LaCie/Data_Sebastien/Sebastien_raw_September_2015/Image005_00000.fits',\n",
      " '/Volumes/LaCie/Data_Sebastien/Sebastien_raw_September_2015/Image006_00000.fits',\n",
      " '/Volumes/LaCie/Data_Sebastien/Sebastien_raw_September_2015/Image007_00000.fits',\n",
      " '/Volumes/LaCie/Data_Sebastien/Sebastien_raw_September_2015/Image008_00000.fits',\n",
      " '/Volumes/LaCie/Data_Sebastien/Sebastien_raw_September_2015/Image009_00000.fits']\n"
     ]
    }
   ],
   "source": [
    "root_folder = config_handler.load_config(key = 'root_folder', \\\n",
    "                                         default_value = '/Volumes/my_book_thunderbolt_duo/IPTS/sebastien/')\n",
    "data_dir = gui_widgets.gui_dname(dir = root_folder)\n",
    "\n",
    "config_handler.save_config(key='data_dir', value=data_dir)\n",
    "config_handler.save_config(key='root_folder', value=root_folder)\n",
    "\n",
    "# We are only keeping all the first file of each image\n",
    "# list all *.fits file from data_dir\n",
    "list_fname = glob.glob(data_dir + '/*0000.fits')\n",
    "\n",
    "number_of_files = len(list_fname)\n",
    "if verbose:\n",
    "    pprint(\"folder requested: %s\" %data_dir)\n",
    "    pprint(\"Number of images: %d\" %number_of_files)\n",
    "\n",
    "if verbose:\n",
    "    pprint(list_fname[0:10])"
   ]
  },
  {
   "cell_type": "markdown",
   "metadata": {},
   "source": [
    "## Retrieving time stamp (when the file was created)"
   ]
  },
  {
   "cell_type": "code",
   "execution_count": 25,
   "metadata": {
    "collapsed": false
   },
   "outputs": [
    {
     "data": {
      "text/html": [
       "<div>\n",
       "<table border=\"1\" class=\"dataframe\">\n",
       "  <thead>\n",
       "    <tr style=\"text-align: right;\">\n",
       "      <th></th>\n",
       "      <th>time_stamp</th>\n",
       "      <th>file_name</th>\n",
       "    </tr>\n",
       "  </thead>\n",
       "  <tbody>\n",
       "    <tr>\n",
       "      <th>0</th>\n",
       "      <td>1.441276e+09</td>\n",
       "      <td>/Volumes/LaCie/Data_Sebastien/Sebastien_raw_Se...</td>\n",
       "    </tr>\n",
       "    <tr>\n",
       "      <th>1</th>\n",
       "      <td>1.441277e+09</td>\n",
       "      <td>/Volumes/LaCie/Data_Sebastien/Sebastien_raw_Se...</td>\n",
       "    </tr>\n",
       "    <tr>\n",
       "      <th>2</th>\n",
       "      <td>1.441277e+09</td>\n",
       "      <td>/Volumes/LaCie/Data_Sebastien/Sebastien_raw_Se...</td>\n",
       "    </tr>\n",
       "    <tr>\n",
       "      <th>3</th>\n",
       "      <td>1.441277e+09</td>\n",
       "      <td>/Volumes/LaCie/Data_Sebastien/Sebastien_raw_Se...</td>\n",
       "    </tr>\n",
       "    <tr>\n",
       "      <th>4</th>\n",
       "      <td>1.441278e+09</td>\n",
       "      <td>/Volumes/LaCie/Data_Sebastien/Sebastien_raw_Se...</td>\n",
       "    </tr>\n",
       "  </tbody>\n",
       "</table>\n",
       "</div>"
      ],
      "text/plain": [
       "     time_stamp                                          file_name\n",
       "0  1.441276e+09  /Volumes/LaCie/Data_Sebastien/Sebastien_raw_Se...\n",
       "1  1.441277e+09  /Volumes/LaCie/Data_Sebastien/Sebastien_raw_Se...\n",
       "2  1.441277e+09  /Volumes/LaCie/Data_Sebastien/Sebastien_raw_Se...\n",
       "3  1.441277e+09  /Volumes/LaCie/Data_Sebastien/Sebastien_raw_Se...\n",
       "4  1.441278e+09  /Volumes/LaCie/Data_Sebastien/Sebastien_raw_Se..."
      ]
     },
     "execution_count": 25,
     "metadata": {},
     "output_type": "execute_result"
    }
   ],
   "source": [
    "w = widgets.IntProgress()\n",
    "w.max = number_of_files\n",
    "\n",
    "display(w)\n",
    "\n",
    "timestamp_array = []\n",
    "for index, _file in enumerate(list_fname):\n",
    "#    date_time_stamp = time.ctime(os.path.getmtime(_file))\n",
    "    time_stamp = os.path.getmtime(_file)\n",
    "    timestamp_array.append(time_stamp)\n",
    "#    converted_timestamp = pd.to_datetime(date_time_stamp)\n",
    "#    timestamp_array.append(converted_timestamp)    \n",
    "    w.value = index+1\n",
    "    \n",
    "data = list(zip(timestamp_array, list_fname))\n",
    "dates_vs_file_name = pd.DataFrame(data, columns=['time_stamp','file_name'])\n",
    "dates_vs_file_name.head()"
   ]
  },
  {
   "cell_type": "markdown",
   "metadata": {},
   "source": [
    "## output the dictionary"
   ]
  },
  {
   "cell_type": "code",
   "execution_count": 26,
   "metadata": {
    "collapsed": false
   },
   "outputs": [
    {
     "name": "stdout",
     "output_type": "stream",
     "text": [
      "/Volumes/my_book_thunderbolt_duo/IPTS/IPTS_14832/time_file_name.csv\n"
     ]
    }
   ],
   "source": [
    "base_file_name = data_dir.split('/')[-1]\n",
    "output_folder = gui_widgets.gui_dname(dir=root_folder, message='Select Output Folder ...')\n",
    "output_file = output_folder + '/' + 'time_file_name.csv'\n",
    "\n",
    "if verbose:\n",
    "    print(output_file)\n",
    "dates_vs_file_name.to_csv(output_file, index=False, header=False)"
   ]
  },
  {
   "cell_type": "code",
   "execution_count": null,
   "metadata": {
    "collapsed": true
   },
   "outputs": [],
   "source": []
  }
 ],
 "metadata": {
  "kernelspec": {
   "display_name": "Python 3",
   "language": "python",
   "name": "python3"
  },
  "language_info": {
   "codemirror_mode": {
    "name": "ipython",
    "version": 3
   },
   "file_extension": ".py",
   "mimetype": "text/x-python",
   "name": "python",
   "nbconvert_exporter": "python",
   "pygments_lexer": "ipython3",
   "version": "3.5.2"
  }
 },
 "nbformat": 4,
 "nbformat_minor": 0
}
